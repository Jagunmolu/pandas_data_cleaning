{
 "cells": [
  {
   "cell_type": "code",
   "execution_count": 6,
   "id": "ea88596f",
   "metadata": {},
   "outputs": [],
   "source": [
    "import numpy as np\n",
    "import pandas as pd\n",
    "import matplotlib.pyplot as plt\n",
    "import math\n",
    "import statistics"
   ]
  },
  {
   "cell_type": "code",
   "execution_count": 7,
   "id": "72e1c9e3",
   "metadata": {},
   "outputs": [
    {
     "data": {
      "text/html": [
       "<div>\n",
       "<style scoped>\n",
       "    .dataframe tbody tr th:only-of-type {\n",
       "        vertical-align: middle;\n",
       "    }\n",
       "\n",
       "    .dataframe tbody tr th {\n",
       "        vertical-align: top;\n",
       "    }\n",
       "\n",
       "    .dataframe thead th {\n",
       "        text-align: right;\n",
       "    }\n",
       "</style>\n",
       "<table border=\"1\" class=\"dataframe\">\n",
       "  <thead>\n",
       "    <tr style=\"text-align: right;\">\n",
       "      <th></th>\n",
       "      <th>year</th>\n",
       "      <th>state</th>\n",
       "      <th>name</th>\n",
       "      <th>chrstprot</th>\n",
       "      <th>chrstcat</th>\n",
       "      <th>chrstorth</th>\n",
       "      <th>chrstang</th>\n",
       "      <th>chrstothr</th>\n",
       "      <th>chrstgen</th>\n",
       "      <th>judorth</th>\n",
       "      <th>...</th>\n",
       "      <th>othrgenpct</th>\n",
       "      <th>sumreligpct</th>\n",
       "      <th>total</th>\n",
       "      <th>dualrelig</th>\n",
       "      <th>datatype</th>\n",
       "      <th>sourcereliab</th>\n",
       "      <th>recreliab</th>\n",
       "      <th>reliabilevel</th>\n",
       "      <th>Version</th>\n",
       "      <th>sourcecode</th>\n",
       "    </tr>\n",
       "  </thead>\n",
       "  <tbody>\n",
       "    <tr>\n",
       "      <th>0</th>\n",
       "      <td>1945</td>\n",
       "      <td>2</td>\n",
       "      <td>USA</td>\n",
       "      <td>66069671</td>\n",
       "      <td>38716742</td>\n",
       "      <td>1121898</td>\n",
       "      <td>2400000</td>\n",
       "      <td>1956807</td>\n",
       "      <td>110265118</td>\n",
       "      <td>821489</td>\n",
       "      <td>...</td>\n",
       "      <td>0.0039</td>\n",
       "      <td>0.9961</td>\n",
       "      <td>1.0000</td>\n",
       "      <td>0</td>\n",
       "      <td>34</td>\n",
       "      <td>2</td>\n",
       "      <td>10</td>\n",
       "      <td>Medium</td>\n",
       "      <td>1.1</td>\n",
       "      <td>13</td>\n",
       "    </tr>\n",
       "    <tr>\n",
       "      <th>1</th>\n",
       "      <td>1950</td>\n",
       "      <td>2</td>\n",
       "      <td>USA</td>\n",
       "      <td>73090083</td>\n",
       "      <td>42635882</td>\n",
       "      <td>3045420</td>\n",
       "      <td>3045420</td>\n",
       "      <td>1177214</td>\n",
       "      <td>122994019</td>\n",
       "      <td>1078078</td>\n",
       "      <td>...</td>\n",
       "      <td>0.0041</td>\n",
       "      <td>0.9959</td>\n",
       "      <td>1.0000</td>\n",
       "      <td>0</td>\n",
       "      <td>34</td>\n",
       "      <td>6</td>\n",
       "      <td>28</td>\n",
       "      <td>Low</td>\n",
       "      <td>1.1</td>\n",
       "      <td>18</td>\n",
       "    </tr>\n",
       "    <tr>\n",
       "      <th>2</th>\n",
       "      <td>1955</td>\n",
       "      <td>2</td>\n",
       "      <td>USA</td>\n",
       "      <td>79294628</td>\n",
       "      <td>46402368</td>\n",
       "      <td>3454916</td>\n",
       "      <td>2572767</td>\n",
       "      <td>2277091</td>\n",
       "      <td>134001770</td>\n",
       "      <td>944000</td>\n",
       "      <td>...</td>\n",
       "      <td>0.0193</td>\n",
       "      <td>0.9807</td>\n",
       "      <td>0.9999</td>\n",
       "      <td>0</td>\n",
       "      <td>134</td>\n",
       "      <td>5</td>\n",
       "      <td>10</td>\n",
       "      <td>Medium</td>\n",
       "      <td>1.1</td>\n",
       "      <td>15</td>\n",
       "    </tr>\n",
       "    <tr>\n",
       "      <th>3</th>\n",
       "      <td>1960</td>\n",
       "      <td>2</td>\n",
       "      <td>USA</td>\n",
       "      <td>90692928</td>\n",
       "      <td>50587880</td>\n",
       "      <td>3334535</td>\n",
       "      <td>2710065</td>\n",
       "      <td>2908939</td>\n",
       "      <td>150234347</td>\n",
       "      <td>973500</td>\n",
       "      <td>...</td>\n",
       "      <td>0.0076</td>\n",
       "      <td>0.9924</td>\n",
       "      <td>0.9999</td>\n",
       "      <td>0</td>\n",
       "      <td>134</td>\n",
       "      <td>2</td>\n",
       "      <td>10</td>\n",
       "      <td>Medium</td>\n",
       "      <td>1.1</td>\n",
       "      <td>13</td>\n",
       "    </tr>\n",
       "    <tr>\n",
       "      <th>4</th>\n",
       "      <td>1965</td>\n",
       "      <td>2</td>\n",
       "      <td>USA</td>\n",
       "      <td>94165803</td>\n",
       "      <td>64761783</td>\n",
       "      <td>4792868</td>\n",
       "      <td>2822149</td>\n",
       "      <td>973155</td>\n",
       "      <td>167515758</td>\n",
       "      <td>991200</td>\n",
       "      <td>...</td>\n",
       "      <td>0.0030</td>\n",
       "      <td>0.9970</td>\n",
       "      <td>1.0001</td>\n",
       "      <td>0</td>\n",
       "      <td>134</td>\n",
       "      <td>8</td>\n",
       "      <td>28</td>\n",
       "      <td>Low</td>\n",
       "      <td>1.1</td>\n",
       "      <td>20</td>\n",
       "    </tr>\n",
       "  </tbody>\n",
       "</table>\n",
       "<p>5 rows × 84 columns</p>\n",
       "</div>"
      ],
      "text/plain": [
       "   year  state name  chrstprot  chrstcat  chrstorth  chrstang  chrstothr  \\\n",
       "0  1945      2  USA   66069671  38716742    1121898   2400000    1956807   \n",
       "1  1950      2  USA   73090083  42635882    3045420   3045420    1177214   \n",
       "2  1955      2  USA   79294628  46402368    3454916   2572767    2277091   \n",
       "3  1960      2  USA   90692928  50587880    3334535   2710065    2908939   \n",
       "4  1965      2  USA   94165803  64761783    4792868   2822149     973155   \n",
       "\n",
       "    chrstgen  judorth  ...  othrgenpct  sumreligpct   total  dualrelig  \\\n",
       "0  110265118   821489  ...      0.0039       0.9961  1.0000          0   \n",
       "1  122994019  1078078  ...      0.0041       0.9959  1.0000          0   \n",
       "2  134001770   944000  ...      0.0193       0.9807  0.9999          0   \n",
       "3  150234347   973500  ...      0.0076       0.9924  0.9999          0   \n",
       "4  167515758   991200  ...      0.0030       0.9970  1.0001          0   \n",
       "\n",
       "   datatype  sourcereliab  recreliab  reliabilevel  Version  sourcecode  \n",
       "0        34             2         10        Medium      1.1          13  \n",
       "1        34             6         28           Low      1.1          18  \n",
       "2       134             5         10        Medium      1.1          15  \n",
       "3       134             2         10        Medium      1.1          13  \n",
       "4       134             8         28           Low      1.1          20  \n",
       "\n",
       "[5 rows x 84 columns]"
      ]
     },
     "execution_count": 7,
     "metadata": {},
     "output_type": "execute_result"
    }
   ],
   "source": [
    "df = pd.read_csv(\"WRP national data.csv\")\n",
    "df.head()"
   ]
  },
  {
   "cell_type": "code",
   "execution_count": 8,
   "id": "7458f244",
   "metadata": {},
   "outputs": [
    {
     "data": {
      "text/plain": [
       "(1995, 84)"
      ]
     },
     "execution_count": 8,
     "metadata": {},
     "output_type": "execute_result"
    }
   ],
   "source": [
    "df.shape"
   ]
  },
  {
   "cell_type": "markdown",
   "id": "a2019a04",
   "metadata": {},
   "source": [
    "Data ==> Model ==> Objective Function ==> Optimization Algorithm  \n",
    "Regression and Cluster Analysis  \n",
    "Deep Learning could still be applied to the 3 types of Machine Learning  \n",
    "**MATLAB**\n",
    "  \n",
    "SUPERVISED LEARNING  \n",
    "Support Vector Machines (SVMs)  \n",
    "Neural Networks (NNs)  \n",
    "Deep Learning  \n",
    "Random Forests  \n",
    "Bayesian Networks  \n",
    "  \n",
    "UNSUPERVISED LEARNING  \n",
    "k-means clustering  \n",
    "deep learning  \n",
    "  \n",
    "REINFORCEMENT LEARNING  \n",
    "Similar to supervised learning, but instead of minimizing the loss, one maximizes reward."
   ]
  },
  {
   "cell_type": "code",
   "execution_count": 15,
   "id": "dda7802e",
   "metadata": {},
   "outputs": [
    {
     "data": {
      "image/png": "[encoded data removed]",
      "text/plain": [
       "<Figure size 640x480 with 1 Axes>"
      ]
     },
     "metadata": {},
     "output_type": "display_data"
    }
   ],
   "source": [
    "# data = [1, 2, 3, 4, 5, 6, 2, 4, 6, 8, 10, 12, 3, 6, 9, 12, 15, 18, 4, 8, 12, 16, 20, 24, 5, 10, 15, 20, 25, 30, 6, 12, 18, 24, 30, 36]\n",
    "data = [2, 3, 4, 5, 6, 7, 3, 4, 5, 6, 7, 8, 4, 5, 6, 7, 8, 9, 5, 6, 7, 8, 9, 10, 6, 7, 8, 9, 10, 11, 7, 8, 9, 10, 11, 12]\n",
    "data = [(x, data.count(x) / 36) for x in set(data)]\n",
    "data = pd.DataFrame(data, columns=[\"product\", \"frequency\"])\n",
    "plt.bar(data[\"product\"], data[\"frequency\"])\n",
    "# plt.hist(data[\"frequency\"])\n",
    "plt.show();"
   ]
  },
  {
   "cell_type": "code",
   "execution_count": 16,
   "id": "e7a662f3",
   "metadata": {},
   "outputs": [
    {
     "data": {
      "text/plain": [
       "Index(['year', 'state', 'name', 'chrstprot', 'chrstcat', 'chrstorth',\n",
       "       'chrstang', 'chrstothr', 'chrstgen', 'judorth', 'jdcons', 'judref',\n",
       "       'judothr', 'judgen', 'islmsun', 'islmshi', 'islmibd', 'islmnat',\n",
       "       'islmalw', 'islmahm', 'islmothr', 'islmgen', 'budmah', 'budthr',\n",
       "       'budothr', 'budgen', 'zorogen', 'hindgen', 'sikhgen', 'shntgen',\n",
       "       'bahgen', 'taogen', 'jaingen', 'confgen', 'syncgen', 'anmgen',\n",
       "       'nonrelig', 'othrgen', 'sumrelig', 'pop', 'chrstprotpct', 'chrstcatpct',\n",
       "       'chrstorthpct', 'chrstangpct', 'chrstothrpct', 'chrstgenpct',\n",
       "       'judorthpct', 'judconspct', 'judrefpct', 'judothrpct', 'judgenpct',\n",
       "       'islmsunpct', 'islmshipct', 'islmibdpct', 'islmnatpct', 'islmalwpct',\n",
       "       'islmahmpct', 'islmothrpct', 'islmgenpct', 'budmahpct', 'budthrpct',\n",
       "       'budothrpct', 'budgenpct', 'zorogenpct', 'hindgenpct', 'sikhgenpct',\n",
       "       'shntgenpct', 'bahgenpct', 'taogenpct', 'jaingenpct', 'confgenpct',\n",
       "       'syncgenpct', 'anmgenpct', 'nonreligpct', 'othrgenpct', 'sumreligpct',\n",
       "       'total', 'dualrelig', 'datatype', 'sourcereliab', 'recreliab',\n",
       "       'reliabilevel', 'Version', 'sourcecode'],\n",
       "      dtype='object')"
      ]
     },
     "execution_count": 16,
     "metadata": {},
     "output_type": "execute_result"
    }
   ],
   "source": [
    "df.columns"
   ]
  },
  {
   "cell_type": "code",
   "execution_count": null,
   "id": "1d3e8ef2",
   "metadata": {},
   "outputs": [],
   "source": []
  }
 ],
 "metadata": {
  "kernelspec": {
   "display_name": "Python 3 (ipykernel)",
   "language": "python",
   "name": "python3"
  },
  "language_info": {
   "codemirror_mode": {
    "name": "ipython",
    "version": 3
   },
   "file_extension": ".py",
   "mimetype": "text/x-python",
   "name": "python",
   "nbconvert_exporter": "python",
   "pygments_lexer": "ipython3",
   "version": "3.11.3"
  }
 },
 "nbformat": 4,
 "nbformat_minor": 5
}
