{
 "cells": [
  {
   "cell_type": "code",
   "execution_count": 1,
   "id": "b0fd4b94",
   "metadata": {},
   "outputs": [],
   "source": [
    "import numpy as np\n",
    "import pandas as pd\n",
    "import re"
   ]
  },
  {
   "cell_type": "code",
   "execution_count": 2,
   "id": "5093f78c",
   "metadata": {},
   "outputs": [],
   "source": [
    "well_pollution = pd.read_excel(\"mid_Md_water_services_data.xlsx\", sheet_name=0)\n",
    "water_source = pd.read_excel(\"mid_Md_water_services_data.xlsx\", sheet_name=1)\n",
    "visits = pd.read_excel(\"mid_Md_water_services_data.xlsx\", sheet_name=2)\n",
    "project_progress = pd.read_excel(\"mid_Md_water_services_data.xlsx\", sheet_name=4)\n",
    "vendors = pd.read_excel(\"mid_Md_water_services_data.xlsx\", sheet_name=5)\n",
    "location = pd.read_excel(\"mid_Md_water_services_data.xlsx\", sheet_name=6)\n",
    "infrastructure_cost = pd.read_excel(\"mid_Md_water_services_data.xlsx\", sheet_name=7)"
   ]
  },
  {
   "cell_type": "code",
   "execution_count": null,
   "id": "8654cb5c",
   "metadata": {},
   "outputs": [],
   "source": []
  }
 ],
 "metadata": {
  "kernelspec": {
   "display_name": "Python 3 (ipykernel)",
   "language": "python",
   "name": "python3"
  },
  "language_info": {
   "codemirror_mode": {
    "name": "ipython",
    "version": 3
   },
   "file_extension": ".py",
   "mimetype": "text/x-python",
   "name": "python",
   "nbconvert_exporter": "python",
   "pygments_lexer": "ipython3",
   "version": "3.11.3"
  }
 },
 "nbformat": 4,
 "nbformat_minor": 5
}
