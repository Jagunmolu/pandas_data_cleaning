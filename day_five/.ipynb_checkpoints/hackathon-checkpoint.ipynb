{
 "cells": [
  {
   "cell_type": "code",
   "execution_count": 1,
   "id": "ab166608",
   "metadata": {},
   "outputs": [],
   "source": [
    "import numpy as np\n",
    "import pandas as pd\n",
    "import matplotlib.pyplot as plt\n",
    "import statistics\n",
    "import seaborn as sns\n",
    "import math\n",
    "import re"
   ]
  },
  {
   "cell_type": "code",
   "execution_count": 2,
   "id": "c7e25b89",
   "metadata": {},
   "outputs": [
    {
     "name": "stdout",
     "output_type": "stream",
     "text": [
      "1. unemployment-rate-men-vs-women.csv\n",
      "2. national-strategy-for-youth-employment.csv\n",
      "3. share-of-education-in-government-expenditure.csv\n",
      "4. share-of-the-population-with-access-to-electricity.csv\n",
      "5. Total_firms_Historical_data.xlsx\n",
      "6. Country Codes.csv\n"
     ]
    }
   ],
   "source": [
    "import os\n",
    "\n",
    "# Specify the path of the directory you want to list\n",
    "directory_path = './datasets/'\n",
    "\n",
    "# Get the list of files in the directory\n",
    "files = os.listdir(directory_path)\n",
    "\n",
    "# Print the list of files\n",
    "for file in files:\n",
    "    print(file)"
   ]
  },
  {
   "cell_type": "code",
   "execution_count": 9,
   "id": "8376de20",
   "metadata": {},
   "outputs": [],
   "source": [
    "unemployment_rate = pd.read_csv(\"./datasets/1. unemployment-rate-men-vs-women.csv\")\n",
    "national_strategy = pd.read_csv(\"./datasets/2. national-strategy-for-youth-employment.csv\")\n",
    "education = pd.read_csv(\"./datasets/3. share-of-education-in-government-expenditure.csv\")\n",
    "electricity = pd.read_csv(\"./datasets/4. share-of-the-population-with-access-to-electricity.csv\")\n",
    "firms_and_businesses = pd.read_excel(\"./datasets/5. Total_firms_Historical_data.xlsx\")\n",
    "country_codes = pd.read_csv(\"./datasets/6. Country Codes.csv\")"
   ]
  },
  {
   "cell_type": "code",
   "execution_count": 10,
   "id": "fb1402f5",
   "metadata": {},
   "outputs": [
    {
     "data": {
      "text/html": [
       "<div>\n",
       "<style scoped>\n",
       "    .dataframe tbody tr th:only-of-type {\n",
       "        vertical-align: middle;\n",
       "    }\n",
       "\n",
       "    .dataframe tbody tr th {\n",
       "        vertical-align: top;\n",
       "    }\n",
       "\n",
       "    .dataframe thead th {\n",
       "        text-align: right;\n",
       "    }\n",
       "</style>\n",
       "<table border=\"1\" class=\"dataframe\">\n",
       "  <thead>\n",
       "    <tr style=\"text-align: right;\">\n",
       "      <th></th>\n",
       "      <th>Entity</th>\n",
       "      <th>Code</th>\n",
       "      <th>Year</th>\n",
       "      <th>Unemployment, female (% of female labor force) (modeled ILO estimate)</th>\n",
       "      <th>Unemployment, male (% of male labor force) (modeled ILO estimate)</th>\n",
       "      <th>Population (historical estimates)</th>\n",
       "      <th>Continent</th>\n",
       "    </tr>\n",
       "  </thead>\n",
       "  <tbody>\n",
       "    <tr>\n",
       "      <th>0</th>\n",
       "      <td>Abkhazia</td>\n",
       "      <td>OWID_ABK</td>\n",
       "      <td>2015</td>\n",
       "      <td>NaN</td>\n",
       "      <td>NaN</td>\n",
       "      <td>NaN</td>\n",
       "      <td>Asia</td>\n",
       "    </tr>\n",
       "    <tr>\n",
       "      <th>1</th>\n",
       "      <td>Afghanistan</td>\n",
       "      <td>AFG</td>\n",
       "      <td>1991</td>\n",
       "      <td>13.615</td>\n",
       "      <td>10.089</td>\n",
       "      <td>10745168.0</td>\n",
       "      <td>NaN</td>\n",
       "    </tr>\n",
       "    <tr>\n",
       "      <th>2</th>\n",
       "      <td>Afghanistan</td>\n",
       "      <td>AFG</td>\n",
       "      <td>1992</td>\n",
       "      <td>13.816</td>\n",
       "      <td>10.258</td>\n",
       "      <td>12057436.0</td>\n",
       "      <td>NaN</td>\n",
       "    </tr>\n",
       "    <tr>\n",
       "      <th>3</th>\n",
       "      <td>Afghanistan</td>\n",
       "      <td>AFG</td>\n",
       "      <td>1993</td>\n",
       "      <td>13.712</td>\n",
       "      <td>10.165</td>\n",
       "      <td>14003764.0</td>\n",
       "      <td>NaN</td>\n",
       "    </tr>\n",
       "    <tr>\n",
       "      <th>4</th>\n",
       "      <td>Afghanistan</td>\n",
       "      <td>AFG</td>\n",
       "      <td>1994</td>\n",
       "      <td>13.722</td>\n",
       "      <td>10.170</td>\n",
       "      <td>15455560.0</td>\n",
       "      <td>NaN</td>\n",
       "    </tr>\n",
       "  </tbody>\n",
       "</table>\n",
       "</div>"
      ],
      "text/plain": [
       "        Entity      Code  Year  \\\n",
       "0     Abkhazia  OWID_ABK  2015   \n",
       "1  Afghanistan       AFG  1991   \n",
       "2  Afghanistan       AFG  1992   \n",
       "3  Afghanistan       AFG  1993   \n",
       "4  Afghanistan       AFG  1994   \n",
       "\n",
       "   Unemployment, female (% of female labor force) (modeled ILO estimate)  \\\n",
       "0                                                NaN                       \n",
       "1                                             13.615                       \n",
       "2                                             13.816                       \n",
       "3                                             13.712                       \n",
       "4                                             13.722                       \n",
       "\n",
       "   Unemployment, male (% of male labor force) (modeled ILO estimate)  \\\n",
       "0                                                NaN                   \n",
       "1                                             10.089                   \n",
       "2                                             10.258                   \n",
       "3                                             10.165                   \n",
       "4                                             10.170                   \n",
       "\n",
       "   Population (historical estimates) Continent  \n",
       "0                                NaN      Asia  \n",
       "1                         10745168.0       NaN  \n",
       "2                         12057436.0       NaN  \n",
       "3                         14003764.0       NaN  \n",
       "4                         15455560.0       NaN  "
      ]
     },
     "execution_count": 10,
     "metadata": {},
     "output_type": "execute_result"
    }
   ],
   "source": [
    "unemployment_rate.head()"
   ]
  },
  {
   "cell_type": "code",
   "execution_count": 11,
   "id": "0bc395de",
   "metadata": {},
   "outputs": [
    {
     "data": {
      "text/html": [
       "<div>\n",
       "<style scoped>\n",
       "    .dataframe tbody tr th:only-of-type {\n",
       "        vertical-align: middle;\n",
       "    }\n",
       "\n",
       "    .dataframe tbody tr th {\n",
       "        vertical-align: top;\n",
       "    }\n",
       "\n",
       "    .dataframe thead th {\n",
       "        text-align: right;\n",
       "    }\n",
       "</style>\n",
       "<table border=\"1\" class=\"dataframe\">\n",
       "  <thead>\n",
       "    <tr style=\"text-align: right;\">\n",
       "      <th></th>\n",
       "      <th>Year</th>\n",
       "      <th>Unemployment, female (% of female labor force) (modeled ILO estimate)</th>\n",
       "      <th>Unemployment, male (% of male labor force) (modeled ILO estimate)</th>\n",
       "      <th>Population (historical estimates)</th>\n",
       "    </tr>\n",
       "  </thead>\n",
       "  <tbody>\n",
       "    <tr>\n",
       "      <th>count</th>\n",
       "      <td>58578.000000</td>\n",
       "      <td>6231.000000</td>\n",
       "      <td>6231.000000</td>\n",
       "      <td>5.825200e+04</td>\n",
       "    </tr>\n",
       "    <tr>\n",
       "      <th>mean</th>\n",
       "      <td>1603.516542</td>\n",
       "      <td>9.460057</td>\n",
       "      <td>7.567807</td>\n",
       "      <td>4.901082e+07</td>\n",
       "    </tr>\n",
       "    <tr>\n",
       "      <th>std</th>\n",
       "      <td>1424.962569</td>\n",
       "      <td>7.613245</td>\n",
       "      <td>5.688615</td>\n",
       "      <td>2.925549e+08</td>\n",
       "    </tr>\n",
       "    <tr>\n",
       "      <th>min</th>\n",
       "      <td>-10000.000000</td>\n",
       "      <td>0.149000</td>\n",
       "      <td>0.052000</td>\n",
       "      <td>0.000000e+00</td>\n",
       "    </tr>\n",
       "    <tr>\n",
       "      <th>25%</th>\n",
       "      <td>1832.000000</td>\n",
       "      <td>4.052500</td>\n",
       "      <td>3.612000</td>\n",
       "      <td>1.460840e+05</td>\n",
       "    </tr>\n",
       "    <tr>\n",
       "      <th>50%</th>\n",
       "      <td>1901.000000</td>\n",
       "      <td>6.908000</td>\n",
       "      <td>5.890000</td>\n",
       "      <td>1.388504e+06</td>\n",
       "    </tr>\n",
       "    <tr>\n",
       "      <th>75%</th>\n",
       "      <td>1966.000000</td>\n",
       "      <td>12.771000</td>\n",
       "      <td>10.037500</td>\n",
       "      <td>6.600998e+06</td>\n",
       "    </tr>\n",
       "    <tr>\n",
       "      <th>max</th>\n",
       "      <td>2021.000000</td>\n",
       "      <td>47.183000</td>\n",
       "      <td>36.963000</td>\n",
       "      <td>7.909295e+09</td>\n",
       "    </tr>\n",
       "  </tbody>\n",
       "</table>\n",
       "</div>"
      ],
      "text/plain": [
       "               Year  \\\n",
       "count  58578.000000   \n",
       "mean    1603.516542   \n",
       "std     1424.962569   \n",
       "min   -10000.000000   \n",
       "25%     1832.000000   \n",
       "50%     1901.000000   \n",
       "75%     1966.000000   \n",
       "max     2021.000000   \n",
       "\n",
       "       Unemployment, female (% of female labor force) (modeled ILO estimate)  \\\n",
       "count                                        6231.000000                       \n",
       "mean                                            9.460057                       \n",
       "std                                             7.613245                       \n",
       "min                                             0.149000                       \n",
       "25%                                             4.052500                       \n",
       "50%                                             6.908000                       \n",
       "75%                                            12.771000                       \n",
       "max                                            47.183000                       \n",
       "\n",
       "       Unemployment, male (% of male labor force) (modeled ILO estimate)  \\\n",
       "count                                        6231.000000                   \n",
       "mean                                            7.567807                   \n",
       "std                                             5.688615                   \n",
       "min                                             0.052000                   \n",
       "25%                                             3.612000                   \n",
       "50%                                             5.890000                   \n",
       "75%                                            10.037500                   \n",
       "max                                            36.963000                   \n",
       "\n",
       "       Population (historical estimates)  \n",
       "count                       5.825200e+04  \n",
       "mean                        4.901082e+07  \n",
       "std                         2.925549e+08  \n",
       "min                         0.000000e+00  \n",
       "25%                         1.460840e+05  \n",
       "50%                         1.388504e+06  \n",
       "75%                         6.600998e+06  \n",
       "max                         7.909295e+09  "
      ]
     },
     "execution_count": 11,
     "metadata": {},
     "output_type": "execute_result"
    }
   ],
   "source": [
    "unemployment_rate.describe()"
   ]
  },
  {
   "cell_type": "code",
   "execution_count": 12,
   "id": "a8adbf34",
   "metadata": {},
   "outputs": [
    {
     "name": "stdout",
     "output_type": "stream",
     "text": [
      "<class 'pandas.core.frame.DataFrame'>\n",
      "RangeIndex: 58578 entries, 0 to 58577\n",
      "Data columns (total 7 columns):\n",
      " #   Column                                                                 Non-Null Count  Dtype  \n",
      "---  ------                                                                 --------------  -----  \n",
      " 0   Entity                                                                 58578 non-null  object \n",
      " 1   Code                                                                   55049 non-null  object \n",
      " 2   Year                                                                   58578 non-null  int64  \n",
      " 3   Unemployment, female (% of female labor force) (modeled ILO estimate)  6231 non-null   float64\n",
      " 4   Unemployment, male (% of male labor force) (modeled ILO estimate)      6231 non-null   float64\n",
      " 5   Population (historical estimates)                                      58252 non-null  float64\n",
      " 6   Continent                                                              285 non-null    object \n",
      "dtypes: float64(3), int64(1), object(3)\n",
      "memory usage: 3.1+ MB\n"
     ]
    }
   ],
   "source": [
    "unemployment_rate.info()"
   ]
  },
  {
   "cell_type": "code",
   "execution_count": 13,
   "id": "67bef841",
   "metadata": {},
   "outputs": [
    {
     "data": {
      "text/plain": [
       "(58578, 7)"
      ]
     },
     "execution_count": 13,
     "metadata": {},
     "output_type": "execute_result"
    }
   ],
   "source": [
    "unemployment_rate.shape"
   ]
  },
  {
   "cell_type": "code",
   "execution_count": 20,
   "id": "381360fb",
   "metadata": {},
   "outputs": [
    {
     "data": {
      "text/plain": [
       "Entity                                                                       0\n",
       "Code                                                                      3529\n",
       "Year                                                                         0\n",
       "Unemployment, female (% of female labor force) (modeled ILO estimate)    52347\n",
       "Unemployment, male (% of male labor force) (modeled ILO estimate)        52347\n",
       "Population (historical estimates)                                          326\n",
       "Continent                                                                58293\n",
       "dtype: int64"
      ]
     },
     "execution_count": 20,
     "metadata": {},
     "output_type": "execute_result"
    }
   ],
   "source": [
    "unemployment_rate.isna().sum()"
   ]
  },
  {
   "cell_type": "code",
   "execution_count": 69,
   "id": "d99fe539",
   "metadata": {},
   "outputs": [
    {
     "data": {
      "text/html": [
       "<div>\n",
       "<style scoped>\n",
       "    .dataframe tbody tr th:only-of-type {\n",
       "        vertical-align: middle;\n",
       "    }\n",
       "\n",
       "    .dataframe tbody tr th {\n",
       "        vertical-align: top;\n",
       "    }\n",
       "\n",
       "    .dataframe thead th {\n",
       "        text-align: right;\n",
       "    }\n",
       "</style>\n",
       "<table border=\"1\" class=\"dataframe\">\n",
       "  <thead>\n",
       "    <tr style=\"text-align: right;\">\n",
       "      <th></th>\n",
       "      <th>Entity</th>\n",
       "      <th>Code</th>\n",
       "      <th>Year</th>\n",
       "      <th>Unemployment, female (% of female labor force) (modeled ILO estimate)</th>\n",
       "      <th>Unemployment, male (% of male labor force) (modeled ILO estimate)</th>\n",
       "      <th>Population (historical estimates)</th>\n",
       "      <th>Continent</th>\n",
       "    </tr>\n",
       "  </thead>\n",
       "  <tbody>\n",
       "    <tr>\n",
       "      <th>1</th>\n",
       "      <td>Afghanistan</td>\n",
       "      <td>AFG</td>\n",
       "      <td>1991</td>\n",
       "      <td>13.615</td>\n",
       "      <td>10.089</td>\n",
       "      <td>10745168.0</td>\n",
       "      <td>NaN</td>\n",
       "    </tr>\n",
       "    <tr>\n",
       "      <th>2</th>\n",
       "      <td>Afghanistan</td>\n",
       "      <td>AFG</td>\n",
       "      <td>1992</td>\n",
       "      <td>13.816</td>\n",
       "      <td>10.258</td>\n",
       "      <td>12057436.0</td>\n",
       "      <td>NaN</td>\n",
       "    </tr>\n",
       "    <tr>\n",
       "      <th>3</th>\n",
       "      <td>Afghanistan</td>\n",
       "      <td>AFG</td>\n",
       "      <td>1993</td>\n",
       "      <td>13.712</td>\n",
       "      <td>10.165</td>\n",
       "      <td>14003764.0</td>\n",
       "      <td>NaN</td>\n",
       "    </tr>\n",
       "    <tr>\n",
       "      <th>4</th>\n",
       "      <td>Afghanistan</td>\n",
       "      <td>AFG</td>\n",
       "      <td>1994</td>\n",
       "      <td>13.722</td>\n",
       "      <td>10.170</td>\n",
       "      <td>15455560.0</td>\n",
       "      <td>NaN</td>\n",
       "    </tr>\n",
       "    <tr>\n",
       "      <th>5</th>\n",
       "      <td>Afghanistan</td>\n",
       "      <td>AFG</td>\n",
       "      <td>1995</td>\n",
       "      <td>14.235</td>\n",
       "      <td>10.610</td>\n",
       "      <td>16418911.0</td>\n",
       "      <td>NaN</td>\n",
       "    </tr>\n",
       "  </tbody>\n",
       "</table>\n",
       "</div>"
      ],
      "text/plain": [
       "        Entity Code  Year  \\\n",
       "1  Afghanistan  AFG  1991   \n",
       "2  Afghanistan  AFG  1992   \n",
       "3  Afghanistan  AFG  1993   \n",
       "4  Afghanistan  AFG  1994   \n",
       "5  Afghanistan  AFG  1995   \n",
       "\n",
       "   Unemployment, female (% of female labor force) (modeled ILO estimate)  \\\n",
       "1                                             13.615                       \n",
       "2                                             13.816                       \n",
       "3                                             13.712                       \n",
       "4                                             13.722                       \n",
       "5                                             14.235                       \n",
       "\n",
       "   Unemployment, male (% of male labor force) (modeled ILO estimate)  \\\n",
       "1                                             10.089                   \n",
       "2                                             10.258                   \n",
       "3                                             10.165                   \n",
       "4                                             10.170                   \n",
       "5                                             10.610                   \n",
       "\n",
       "   Population (historical estimates) Continent  \n",
       "1                         10745168.0       NaN  \n",
       "2                         12057436.0       NaN  \n",
       "3                         14003764.0       NaN  \n",
       "4                         15455560.0       NaN  \n",
       "5                         16418911.0       NaN  "
      ]
     },
     "execution_count": 69,
     "metadata": {},
     "output_type": "execute_result"
    }
   ],
   "source": [
    "mask_unemployment = unemployment_rate[~unemployment_rate[\"Unemployment, female (% of female labor force) (modeled ILO estimate)\"].isnull()]\n",
    "mask_unemployment.head()"
   ]
  },
  {
   "cell_type": "code",
   "execution_count": 70,
   "id": "fc6a7068",
   "metadata": {},
   "outputs": [
    {
     "data": {
      "text/plain": [
       "(6231, 7)"
      ]
     },
     "execution_count": 70,
     "metadata": {},
     "output_type": "execute_result"
    }
   ],
   "source": [
    "mask_unemployment.shape"
   ]
  },
  {
   "cell_type": "code",
   "execution_count": 71,
   "id": "dc4058d8",
   "metadata": {},
   "outputs": [
    {
     "data": {
      "text/plain": [
       "201"
      ]
     },
     "execution_count": 71,
     "metadata": {},
     "output_type": "execute_result"
    }
   ],
   "source": [
    "mask_unemployment[\"Entity\"].nunique()"
   ]
  },
  {
   "cell_type": "code",
   "execution_count": 72,
   "id": "2acd0e00",
   "metadata": {},
   "outputs": [
    {
     "data": {
      "text/plain": [
       "Index(['Entity', 'Code', 'Year',\n",
       "       'Unemployment, female (% of female labor force) (modeled ILO estimate)',\n",
       "       'Unemployment, male (% of male labor force) (modeled ILO estimate)',\n",
       "       'Population (historical estimates)', 'Continent'],\n",
       "      dtype='object')"
      ]
     },
     "execution_count": 72,
     "metadata": {},
     "output_type": "execute_result"
    }
   ],
   "source": [
    "mask_unemployment.columns"
   ]
  },
  {
   "cell_type": "code",
   "execution_count": 73,
   "id": "1c97f8cc",
   "metadata": {},
   "outputs": [
    {
     "data": {
      "text/plain": [
       "Index(['name', 'alpha-2', 'alpha-3', 'country-code', 'region', 'sub-region'], dtype='object')"
      ]
     },
     "execution_count": 73,
     "metadata": {},
     "output_type": "execute_result"
    }
   ],
   "source": [
    "country_codes.columns"
   ]
  },
  {
   "cell_type": "code",
   "execution_count": 74,
   "id": "e2f7888a",
   "metadata": {},
   "outputs": [
    {
     "data": {
      "text/html": [
       "<div>\n",
       "<style scoped>\n",
       "    .dataframe tbody tr th:only-of-type {\n",
       "        vertical-align: middle;\n",
       "    }\n",
       "\n",
       "    .dataframe tbody tr th {\n",
       "        vertical-align: top;\n",
       "    }\n",
       "\n",
       "    .dataframe thead th {\n",
       "        text-align: right;\n",
       "    }\n",
       "</style>\n",
       "<table border=\"1\" class=\"dataframe\">\n",
       "  <thead>\n",
       "    <tr style=\"text-align: right;\">\n",
       "      <th></th>\n",
       "      <th>Entity</th>\n",
       "      <th>Code</th>\n",
       "      <th>Year</th>\n",
       "      <th>Unemployment, female (% of female labor force) (modeled ILO estimate)</th>\n",
       "      <th>Unemployment, male (% of male labor force) (modeled ILO estimate)</th>\n",
       "      <th>Population (historical estimates)</th>\n",
       "      <th>Continent</th>\n",
       "      <th>name</th>\n",
       "      <th>region</th>\n",
       "      <th>sub-region</th>\n",
       "    </tr>\n",
       "  </thead>\n",
       "  <tbody>\n",
       "    <tr>\n",
       "      <th>0</th>\n",
       "      <td>Afghanistan</td>\n",
       "      <td>AFG</td>\n",
       "      <td>1991</td>\n",
       "      <td>13.615</td>\n",
       "      <td>10.089</td>\n",
       "      <td>10745168.0</td>\n",
       "      <td>NaN</td>\n",
       "      <td>Afghanistan</td>\n",
       "      <td>Asia</td>\n",
       "      <td>Southern Asia</td>\n",
       "    </tr>\n",
       "    <tr>\n",
       "      <th>1</th>\n",
       "      <td>Afghanistan</td>\n",
       "      <td>AFG</td>\n",
       "      <td>1992</td>\n",
       "      <td>13.816</td>\n",
       "      <td>10.258</td>\n",
       "      <td>12057436.0</td>\n",
       "      <td>NaN</td>\n",
       "      <td>Afghanistan</td>\n",
       "      <td>Asia</td>\n",
       "      <td>Southern Asia</td>\n",
       "    </tr>\n",
       "    <tr>\n",
       "      <th>2</th>\n",
       "      <td>Afghanistan</td>\n",
       "      <td>AFG</td>\n",
       "      <td>1993</td>\n",
       "      <td>13.712</td>\n",
       "      <td>10.165</td>\n",
       "      <td>14003764.0</td>\n",
       "      <td>NaN</td>\n",
       "      <td>Afghanistan</td>\n",
       "      <td>Asia</td>\n",
       "      <td>Southern Asia</td>\n",
       "    </tr>\n",
       "    <tr>\n",
       "      <th>3</th>\n",
       "      <td>Afghanistan</td>\n",
       "      <td>AFG</td>\n",
       "      <td>1994</td>\n",
       "      <td>13.722</td>\n",
       "      <td>10.170</td>\n",
       "      <td>15455560.0</td>\n",
       "      <td>NaN</td>\n",
       "      <td>Afghanistan</td>\n",
       "      <td>Asia</td>\n",
       "      <td>Southern Asia</td>\n",
       "    </tr>\n",
       "    <tr>\n",
       "      <th>4</th>\n",
       "      <td>Afghanistan</td>\n",
       "      <td>AFG</td>\n",
       "      <td>1995</td>\n",
       "      <td>14.235</td>\n",
       "      <td>10.610</td>\n",
       "      <td>16418911.0</td>\n",
       "      <td>NaN</td>\n",
       "      <td>Afghanistan</td>\n",
       "      <td>Asia</td>\n",
       "      <td>Southern Asia</td>\n",
       "    </tr>\n",
       "  </tbody>\n",
       "</table>\n",
       "</div>"
      ],
      "text/plain": [
       "        Entity Code  Year  \\\n",
       "0  Afghanistan  AFG  1991   \n",
       "1  Afghanistan  AFG  1992   \n",
       "2  Afghanistan  AFG  1993   \n",
       "3  Afghanistan  AFG  1994   \n",
       "4  Afghanistan  AFG  1995   \n",
       "\n",
       "   Unemployment, female (% of female labor force) (modeled ILO estimate)  \\\n",
       "0                                             13.615                       \n",
       "1                                             13.816                       \n",
       "2                                             13.712                       \n",
       "3                                             13.722                       \n",
       "4                                             14.235                       \n",
       "\n",
       "   Unemployment, male (% of male labor force) (modeled ILO estimate)  \\\n",
       "0                                             10.089                   \n",
       "1                                             10.258                   \n",
       "2                                             10.165                   \n",
       "3                                             10.170                   \n",
       "4                                             10.610                   \n",
       "\n",
       "   Population (historical estimates) Continent         name region  \\\n",
       "0                         10745168.0       NaN  Afghanistan   Asia   \n",
       "1                         12057436.0       NaN  Afghanistan   Asia   \n",
       "2                         14003764.0       NaN  Afghanistan   Asia   \n",
       "3                         15455560.0       NaN  Afghanistan   Asia   \n",
       "4                         16418911.0       NaN  Afghanistan   Asia   \n",
       "\n",
       "      sub-region  \n",
       "0  Southern Asia  \n",
       "1  Southern Asia  \n",
       "2  Southern Asia  \n",
       "3  Southern Asia  \n",
       "4  Southern Asia  "
      ]
     },
     "execution_count": 74,
     "metadata": {},
     "output_type": "execute_result"
    }
   ],
   "source": [
    "mask_unemployment = pd.merge(mask_unemployment, country_codes[['name', 'region', 'sub-region']], left_on=\"Entity\", right_on='name', how='left')\n",
    "mask_unemployment.head()"
   ]
  },
  {
   "cell_type": "code",
   "execution_count": 75,
   "id": "7ccb90ad",
   "metadata": {},
   "outputs": [
    {
     "data": {
      "text/plain": [
       "Index(['Entity', 'Code', 'Year',\n",
       "       'Unemployment, female (% of female labor force) (modeled ILO estimate)',\n",
       "       'Unemployment, male (% of male labor force) (modeled ILO estimate)',\n",
       "       'Population (historical estimates)', 'Continent', 'name', 'region',\n",
       "       'sub-region'],\n",
       "      dtype='object')"
      ]
     },
     "execution_count": 75,
     "metadata": {},
     "output_type": "execute_result"
    }
   ],
   "source": [
    "mask_unemployment.columns"
   ]
  },
  {
   "cell_type": "code",
   "execution_count": 76,
   "id": "65574f59",
   "metadata": {},
   "outputs": [
    {
     "name": "stderr",
     "output_type": "stream",
     "text": [
      "C:\\Users\\USER\\AppData\\Local\\Temp\\ipykernel_18076\\2613068579.py:5: SettingWithCopyWarning: \n",
      "A value is trying to be set on a copy of a slice from a DataFrame\n",
      "\n",
      "See the caveats in the documentation: https://pandas.pydata.org/pandas-docs/stable/user_guide/indexing.html#returning-a-view-versus-a-copy\n",
      "  mask_unemployment.rename(columns={'Entity': 'country', 'Code': 'code', 'Year': 'year',\n"
     ]
    },
    {
     "data": {
      "text/html": [
       "<div>\n",
       "<style scoped>\n",
       "    .dataframe tbody tr th:only-of-type {\n",
       "        vertical-align: middle;\n",
       "    }\n",
       "\n",
       "    .dataframe tbody tr th {\n",
       "        vertical-align: top;\n",
       "    }\n",
       "\n",
       "    .dataframe thead th {\n",
       "        text-align: right;\n",
       "    }\n",
       "</style>\n",
       "<table border=\"1\" class=\"dataframe\">\n",
       "  <thead>\n",
       "    <tr style=\"text-align: right;\">\n",
       "      <th></th>\n",
       "      <th>country</th>\n",
       "      <th>code</th>\n",
       "      <th>continent</th>\n",
       "      <th>sub-region</th>\n",
       "      <th>year</th>\n",
       "      <th>female_unemployment</th>\n",
       "      <th>male_unemployment</th>\n",
       "      <th>population</th>\n",
       "    </tr>\n",
       "  </thead>\n",
       "  <tbody>\n",
       "    <tr>\n",
       "      <th>0</th>\n",
       "      <td>Afghanistan</td>\n",
       "      <td>AFG</td>\n",
       "      <td>Asia</td>\n",
       "      <td>Southern Asia</td>\n",
       "      <td>1991</td>\n",
       "      <td>13.615</td>\n",
       "      <td>10.089</td>\n",
       "      <td>10745168.0</td>\n",
       "    </tr>\n",
       "    <tr>\n",
       "      <th>1</th>\n",
       "      <td>Afghanistan</td>\n",
       "      <td>AFG</td>\n",
       "      <td>Asia</td>\n",
       "      <td>Southern Asia</td>\n",
       "      <td>1992</td>\n",
       "      <td>13.816</td>\n",
       "      <td>10.258</td>\n",
       "      <td>12057436.0</td>\n",
       "    </tr>\n",
       "    <tr>\n",
       "      <th>2</th>\n",
       "      <td>Afghanistan</td>\n",
       "      <td>AFG</td>\n",
       "      <td>Asia</td>\n",
       "      <td>Southern Asia</td>\n",
       "      <td>1993</td>\n",
       "      <td>13.712</td>\n",
       "      <td>10.165</td>\n",
       "      <td>14003764.0</td>\n",
       "    </tr>\n",
       "    <tr>\n",
       "      <th>3</th>\n",
       "      <td>Afghanistan</td>\n",
       "      <td>AFG</td>\n",
       "      <td>Asia</td>\n",
       "      <td>Southern Asia</td>\n",
       "      <td>1994</td>\n",
       "      <td>13.722</td>\n",
       "      <td>10.170</td>\n",
       "      <td>15455560.0</td>\n",
       "    </tr>\n",
       "    <tr>\n",
       "      <th>4</th>\n",
       "      <td>Afghanistan</td>\n",
       "      <td>AFG</td>\n",
       "      <td>Asia</td>\n",
       "      <td>Southern Asia</td>\n",
       "      <td>1995</td>\n",
       "      <td>14.235</td>\n",
       "      <td>10.610</td>\n",
       "      <td>16418911.0</td>\n",
       "    </tr>\n",
       "  </tbody>\n",
       "</table>\n",
       "</div>"
      ],
      "text/plain": [
       "       country code continent     sub-region  year  female_unemployment  \\\n",
       "0  Afghanistan  AFG      Asia  Southern Asia  1991               13.615   \n",
       "1  Afghanistan  AFG      Asia  Southern Asia  1992               13.816   \n",
       "2  Afghanistan  AFG      Asia  Southern Asia  1993               13.712   \n",
       "3  Afghanistan  AFG      Asia  Southern Asia  1994               13.722   \n",
       "4  Afghanistan  AFG      Asia  Southern Asia  1995               14.235   \n",
       "\n",
       "   male_unemployment  population  \n",
       "0             10.089  10745168.0  \n",
       "1             10.258  12057436.0  \n",
       "2             10.165  14003764.0  \n",
       "3             10.170  15455560.0  \n",
       "4             10.610  16418911.0  "
      ]
     },
     "execution_count": 76,
     "metadata": {},
     "output_type": "execute_result"
    }
   ],
   "source": [
    "mask_unemployment = mask_unemployment[['Entity', 'Code', 'region', 'sub-region', 'Year',\n",
    "       'Unemployment, female (% of female labor force) (modeled ILO estimate)',\n",
    "       'Unemployment, male (% of male labor force) (modeled ILO estimate)',\n",
    "       'Population (historical estimates)']]\n",
    "mask_unemployment.rename(columns={'Entity': 'country', 'Code': 'code', 'Year': 'year',\n",
    "       'Unemployment, female (% of female labor force) (modeled ILO estimate)': 'female_unemployment',\n",
    "       'Unemployment, male (% of male labor force) (modeled ILO estimate)': 'male_unemployment',\n",
    "       'Population (historical estimates)': 'population', 'region': 'continent'}, inplace=True)\n",
    "mask_unemployment.head()"
   ]
  },
  {
   "cell_type": "code",
   "execution_count": 77,
   "id": "803d236a",
   "metadata": {},
   "outputs": [],
   "source": [
    "mask_unemployment_africa = mask_unemployment[mask_unemployment[\"continent\"] == \"Africa\"]"
   ]
  },
  {
   "cell_type": "code",
   "execution_count": 79,
   "id": "26907387",
   "metadata": {},
   "outputs": [],
   "source": [
    "mask_unemployment_africa = mask_unemployment_africa.reset_index()"
   ]
  },
  {
   "cell_type": "code",
   "execution_count": 82,
   "id": "f1fe15c6",
   "metadata": {},
   "outputs": [
    {
     "data": {
      "text/plain": [
       "Index(['index', 'country', 'code', 'continent', 'sub-region', 'year',\n",
       "       'female_unemployment', 'male_unemployment', 'population'],\n",
       "      dtype='object')"
      ]
     },
     "execution_count": 82,
     "metadata": {},
     "output_type": "execute_result"
    }
   ],
   "source": [
    "mask_unemployment_africa.columns"
   ]
  },
  {
   "cell_type": "code",
   "execution_count": 101,
   "id": "89bfb477",
   "metadata": {},
   "outputs": [
    {
     "data": {
      "text/html": [
       "<div>\n",
       "<style scoped>\n",
       "    .dataframe tbody tr th:only-of-type {\n",
       "        vertical-align: middle;\n",
       "    }\n",
       "\n",
       "    .dataframe tbody tr th {\n",
       "        vertical-align: top;\n",
       "    }\n",
       "\n",
       "    .dataframe thead th {\n",
       "        text-align: right;\n",
       "    }\n",
       "</style>\n",
       "<table border=\"1\" class=\"dataframe\">\n",
       "  <thead>\n",
       "    <tr style=\"text-align: right;\">\n",
       "      <th></th>\n",
       "      <th>country</th>\n",
       "      <th>code</th>\n",
       "      <th>continent</th>\n",
       "      <th>sub-region</th>\n",
       "      <th>year</th>\n",
       "      <th>female_unemployment</th>\n",
       "      <th>male_unemployment</th>\n",
       "      <th>population</th>\n",
       "    </tr>\n",
       "  </thead>\n",
       "  <tbody>\n",
       "    <tr>\n",
       "      <th>0</th>\n",
       "      <td>Afghanistan</td>\n",
       "      <td>AFG</td>\n",
       "      <td>Asia</td>\n",
       "      <td>Southern Asia</td>\n",
       "      <td>1991</td>\n",
       "      <td>13.615</td>\n",
       "      <td>10.089</td>\n",
       "      <td>10745168.0</td>\n",
       "    </tr>\n",
       "    <tr>\n",
       "      <th>1</th>\n",
       "      <td>Afghanistan</td>\n",
       "      <td>AFG</td>\n",
       "      <td>Asia</td>\n",
       "      <td>Southern Asia</td>\n",
       "      <td>1992</td>\n",
       "      <td>13.816</td>\n",
       "      <td>10.258</td>\n",
       "      <td>12057436.0</td>\n",
       "    </tr>\n",
       "    <tr>\n",
       "      <th>2</th>\n",
       "      <td>Afghanistan</td>\n",
       "      <td>AFG</td>\n",
       "      <td>Asia</td>\n",
       "      <td>Southern Asia</td>\n",
       "      <td>1993</td>\n",
       "      <td>13.712</td>\n",
       "      <td>10.165</td>\n",
       "      <td>14003764.0</td>\n",
       "    </tr>\n",
       "    <tr>\n",
       "      <th>3</th>\n",
       "      <td>Afghanistan</td>\n",
       "      <td>AFG</td>\n",
       "      <td>Asia</td>\n",
       "      <td>Southern Asia</td>\n",
       "      <td>1994</td>\n",
       "      <td>13.722</td>\n",
       "      <td>10.170</td>\n",
       "      <td>15455560.0</td>\n",
       "    </tr>\n",
       "    <tr>\n",
       "      <th>4</th>\n",
       "      <td>Afghanistan</td>\n",
       "      <td>AFG</td>\n",
       "      <td>Asia</td>\n",
       "      <td>Southern Asia</td>\n",
       "      <td>1995</td>\n",
       "      <td>14.235</td>\n",
       "      <td>10.610</td>\n",
       "      <td>16418911.0</td>\n",
       "    </tr>\n",
       "  </tbody>\n",
       "</table>\n",
       "</div>"
      ],
      "text/plain": [
       "       country code continent     sub-region  year  female_unemployment  \\\n",
       "0  Afghanistan  AFG      Asia  Southern Asia  1991               13.615   \n",
       "1  Afghanistan  AFG      Asia  Southern Asia  1992               13.816   \n",
       "2  Afghanistan  AFG      Asia  Southern Asia  1993               13.712   \n",
       "3  Afghanistan  AFG      Asia  Southern Asia  1994               13.722   \n",
       "4  Afghanistan  AFG      Asia  Southern Asia  1995               14.235   \n",
       "\n",
       "   male_unemployment  population  \n",
       "0             10.089  10745168.0  \n",
       "1             10.258  12057436.0  \n",
       "2             10.165  14003764.0  \n",
       "3             10.170  15455560.0  \n",
       "4             10.610  16418911.0  "
      ]
     },
     "execution_count": 101,
     "metadata": {},
     "output_type": "execute_result"
    }
   ],
   "source": [
    "mask_unemployment_world = mask_unemployment[mask_unemployment[\"continent\"] != \"Africa\"]\n",
    "mask_unemployment_world.head()"
   ]
  },
  {
   "cell_type": "code",
   "execution_count": 99,
   "id": "2f22b2ba",
   "metadata": {},
   "outputs": [
    {
     "data": {
      "text/plain": [
       "Index(['Entity', 'Code', 'Year',\n",
       "       '8.b.1 - Existence of a developed and operationalized national strategy for youth employment, as a distinct strategy or as part of a national employment strategy - SL_CPA_YEMP'],\n",
       "      dtype='object')"
      ]
     },
     "execution_count": 99,
     "metadata": {},
     "output_type": "execute_result"
    }
   ],
   "source": [
    "national_strategy.columns"
   ]
  },
  {
   "cell_type": "code",
   "execution_count": 108,
   "id": "b4628004",
   "metadata": {},
   "outputs": [
    {
     "data": {
      "text/plain": [
       "Index(['country', 'code', 'continent', 'sub-region', 'year',\n",
       "       'female_unemployment', 'male_unemployment', 'population', 'Entity',\n",
       "       'Year', 'national_strategy'],\n",
       "      dtype='object')"
      ]
     },
     "execution_count": 108,
     "metadata": {},
     "output_type": "execute_result"
    }
   ],
   "source": [
    "temp.columns"
   ]
  },
  {
   "cell_type": "code",
   "execution_count": 107,
   "id": "3cb5f045",
   "metadata": {},
   "outputs": [
    {
     "data": {
      "text/html": [
       "<div>\n",
       "<style scoped>\n",
       "    .dataframe tbody tr th:only-of-type {\n",
       "        vertical-align: middle;\n",
       "    }\n",
       "\n",
       "    .dataframe tbody tr th {\n",
       "        vertical-align: top;\n",
       "    }\n",
       "\n",
       "    .dataframe thead th {\n",
       "        text-align: right;\n",
       "    }\n",
       "</style>\n",
       "<table border=\"1\" class=\"dataframe\">\n",
       "  <thead>\n",
       "    <tr style=\"text-align: right;\">\n",
       "      <th></th>\n",
       "      <th>country</th>\n",
       "      <th>code</th>\n",
       "      <th>continent</th>\n",
       "      <th>sub-region</th>\n",
       "      <th>year</th>\n",
       "      <th>female_unemployment</th>\n",
       "      <th>male_unemployment</th>\n",
       "      <th>population</th>\n",
       "      <th>Entity</th>\n",
       "      <th>Year</th>\n",
       "      <th>national_strategy</th>\n",
       "    </tr>\n",
       "  </thead>\n",
       "  <tbody>\n",
       "    <tr>\n",
       "      <th>0</th>\n",
       "      <td>Afghanistan</td>\n",
       "      <td>AFG</td>\n",
       "      <td>Asia</td>\n",
       "      <td>Southern Asia</td>\n",
       "      <td>1991</td>\n",
       "      <td>13.615</td>\n",
       "      <td>10.089</td>\n",
       "      <td>10745168.0</td>\n",
       "      <td>NaN</td>\n",
       "      <td>NaN</td>\n",
       "      <td>NaN</td>\n",
       "    </tr>\n",
       "    <tr>\n",
       "      <th>1</th>\n",
       "      <td>Afghanistan</td>\n",
       "      <td>AFG</td>\n",
       "      <td>Asia</td>\n",
       "      <td>Southern Asia</td>\n",
       "      <td>1992</td>\n",
       "      <td>13.816</td>\n",
       "      <td>10.258</td>\n",
       "      <td>12057436.0</td>\n",
       "      <td>NaN</td>\n",
       "      <td>NaN</td>\n",
       "      <td>NaN</td>\n",
       "    </tr>\n",
       "    <tr>\n",
       "      <th>2</th>\n",
       "      <td>Afghanistan</td>\n",
       "      <td>AFG</td>\n",
       "      <td>Asia</td>\n",
       "      <td>Southern Asia</td>\n",
       "      <td>1993</td>\n",
       "      <td>13.712</td>\n",
       "      <td>10.165</td>\n",
       "      <td>14003764.0</td>\n",
       "      <td>NaN</td>\n",
       "      <td>NaN</td>\n",
       "      <td>NaN</td>\n",
       "    </tr>\n",
       "    <tr>\n",
       "      <th>3</th>\n",
       "      <td>Afghanistan</td>\n",
       "      <td>AFG</td>\n",
       "      <td>Asia</td>\n",
       "      <td>Southern Asia</td>\n",
       "      <td>1994</td>\n",
       "      <td>13.722</td>\n",
       "      <td>10.170</td>\n",
       "      <td>15455560.0</td>\n",
       "      <td>NaN</td>\n",
       "      <td>NaN</td>\n",
       "      <td>NaN</td>\n",
       "    </tr>\n",
       "    <tr>\n",
       "      <th>4</th>\n",
       "      <td>Afghanistan</td>\n",
       "      <td>AFG</td>\n",
       "      <td>Asia</td>\n",
       "      <td>Southern Asia</td>\n",
       "      <td>1995</td>\n",
       "      <td>14.235</td>\n",
       "      <td>10.610</td>\n",
       "      <td>16418911.0</td>\n",
       "      <td>NaN</td>\n",
       "      <td>NaN</td>\n",
       "      <td>NaN</td>\n",
       "    </tr>\n",
       "  </tbody>\n",
       "</table>\n",
       "</div>"
      ],
      "text/plain": [
       "       country code continent     sub-region  year  female_unemployment  \\\n",
       "0  Afghanistan  AFG      Asia  Southern Asia  1991               13.615   \n",
       "1  Afghanistan  AFG      Asia  Southern Asia  1992               13.816   \n",
       "2  Afghanistan  AFG      Asia  Southern Asia  1993               13.712   \n",
       "3  Afghanistan  AFG      Asia  Southern Asia  1994               13.722   \n",
       "4  Afghanistan  AFG      Asia  Southern Asia  1995               14.235   \n",
       "\n",
       "   male_unemployment  population Entity  Year  national_strategy  \n",
       "0             10.089  10745168.0    NaN   NaN                NaN  \n",
       "1             10.258  12057436.0    NaN   NaN                NaN  \n",
       "2             10.165  14003764.0    NaN   NaN                NaN  \n",
       "3             10.170  15455560.0    NaN   NaN                NaN  \n",
       "4             10.610  16418911.0    NaN   NaN                NaN  "
      ]
     },
     "execution_count": 107,
     "metadata": {},
     "output_type": "execute_result"
    }
   ],
   "source": [
    "temp = mask_unemployment.merge(\n",
    "    national_strategy[['Entity', 'Year',\n",
    "       '8.b.1 - Existence of a developed and operationalized national strategy for youth employment, as a distinct strategy or as part of a national employment strategy - SL_CPA_YEMP']], left_on=[\"country\", \"year\"],\n",
    "    right_on=[\"Entity\", \"Year\"], how=\"left\")\n",
    "temp = temp.rename(columns={'8.b.1 - Existence of a developed and operationalized national strategy for youth employment, as a distinct strategy or as part of a national employment strategy - SL_CPA_YEMP': \"national_strategy\"})\n",
    "temp = temp[['country', 'code', 'continent', 'sub-region', 'year',\n",
    "       'female_unemployment', 'male_unemployment', 'population', 'Entity',\n",
    "       'Year', 'national_strategy']]\n",
    "temp.head()"
   ]
  },
  {
   "cell_type": "code",
   "execution_count": 104,
   "id": "c85ec0cd",
   "metadata": {},
   "outputs": [
    {
     "data": {
      "text/plain": [
       "(6231, 12)"
      ]
     },
     "execution_count": 104,
     "metadata": {},
     "output_type": "execute_result"
    }
   ],
   "source": [
    "temp.shape"
   ]
  },
  {
   "cell_type": "code",
   "execution_count": 110,
   "id": "b08b9ead",
   "metadata": {},
   "outputs": [
    {
     "data": {
      "text/plain": [
       "(363, 4)"
      ]
     },
     "execution_count": 110,
     "metadata": {},
     "output_type": "execute_result"
    }
   ],
   "source": [
    "national_strategy.shape"
   ]
  },
  {
   "cell_type": "code",
   "execution_count": 112,
   "id": "45fecca3",
   "metadata": {},
   "outputs": [
    {
     "data": {
      "text/html": [
       "<div>\n",
       "<style scoped>\n",
       "    .dataframe tbody tr th:only-of-type {\n",
       "        vertical-align: middle;\n",
       "    }\n",
       "\n",
       "    .dataframe tbody tr th {\n",
       "        vertical-align: top;\n",
       "    }\n",
       "\n",
       "    .dataframe thead th {\n",
       "        text-align: right;\n",
       "    }\n",
       "</style>\n",
       "<table border=\"1\" class=\"dataframe\">\n",
       "  <thead>\n",
       "    <tr style=\"text-align: right;\">\n",
       "      <th></th>\n",
       "      <th>country</th>\n",
       "      <th>code</th>\n",
       "      <th>continent</th>\n",
       "      <th>sub-region</th>\n",
       "      <th>year</th>\n",
       "      <th>female_unemployment</th>\n",
       "      <th>male_unemployment</th>\n",
       "      <th>population</th>\n",
       "      <th>national_strategy</th>\n",
       "    </tr>\n",
       "  </thead>\n",
       "  <tbody>\n",
       "    <tr>\n",
       "      <th>0</th>\n",
       "      <td>Afghanistan</td>\n",
       "      <td>AFG</td>\n",
       "      <td>Asia</td>\n",
       "      <td>Southern Asia</td>\n",
       "      <td>1991</td>\n",
       "      <td>13.615</td>\n",
       "      <td>10.089</td>\n",
       "      <td>10745168.0</td>\n",
       "      <td>NaN</td>\n",
       "    </tr>\n",
       "    <tr>\n",
       "      <th>1</th>\n",
       "      <td>Afghanistan</td>\n",
       "      <td>AFG</td>\n",
       "      <td>Asia</td>\n",
       "      <td>Southern Asia</td>\n",
       "      <td>1992</td>\n",
       "      <td>13.816</td>\n",
       "      <td>10.258</td>\n",
       "      <td>12057436.0</td>\n",
       "      <td>NaN</td>\n",
       "    </tr>\n",
       "    <tr>\n",
       "      <th>2</th>\n",
       "      <td>Afghanistan</td>\n",
       "      <td>AFG</td>\n",
       "      <td>Asia</td>\n",
       "      <td>Southern Asia</td>\n",
       "      <td>1993</td>\n",
       "      <td>13.712</td>\n",
       "      <td>10.165</td>\n",
       "      <td>14003764.0</td>\n",
       "      <td>NaN</td>\n",
       "    </tr>\n",
       "    <tr>\n",
       "      <th>3</th>\n",
       "      <td>Afghanistan</td>\n",
       "      <td>AFG</td>\n",
       "      <td>Asia</td>\n",
       "      <td>Southern Asia</td>\n",
       "      <td>1994</td>\n",
       "      <td>13.722</td>\n",
       "      <td>10.170</td>\n",
       "      <td>15455560.0</td>\n",
       "      <td>NaN</td>\n",
       "    </tr>\n",
       "    <tr>\n",
       "      <th>4</th>\n",
       "      <td>Afghanistan</td>\n",
       "      <td>AFG</td>\n",
       "      <td>Asia</td>\n",
       "      <td>Southern Asia</td>\n",
       "      <td>1995</td>\n",
       "      <td>14.235</td>\n",
       "      <td>10.610</td>\n",
       "      <td>16418911.0</td>\n",
       "      <td>NaN</td>\n",
       "    </tr>\n",
       "  </tbody>\n",
       "</table>\n",
       "</div>"
      ],
      "text/plain": [
       "       country code continent     sub-region  year  female_unemployment  \\\n",
       "0  Afghanistan  AFG      Asia  Southern Asia  1991               13.615   \n",
       "1  Afghanistan  AFG      Asia  Southern Asia  1992               13.816   \n",
       "2  Afghanistan  AFG      Asia  Southern Asia  1993               13.712   \n",
       "3  Afghanistan  AFG      Asia  Southern Asia  1994               13.722   \n",
       "4  Afghanistan  AFG      Asia  Southern Asia  1995               14.235   \n",
       "\n",
       "   male_unemployment  population  national_strategy  \n",
       "0             10.089  10745168.0                NaN  \n",
       "1             10.258  12057436.0                NaN  \n",
       "2             10.165  14003764.0                NaN  \n",
       "3             10.170  15455560.0                NaN  \n",
       "4             10.610  16418911.0                NaN  "
      ]
     },
     "execution_count": 112,
     "metadata": {},
     "output_type": "execute_result"
    }
   ],
   "source": [
    "temp = temp[['country', 'code', 'continent', 'sub-region', 'year',\n",
    "       'female_unemployment', 'male_unemployment', 'population', 'national_strategy']]\n",
    "temp.head()"
   ]
  },
  {
   "cell_type": "code",
   "execution_count": 117,
   "id": "1dfe1e27",
   "metadata": {},
   "outputs": [
    {
     "data": {
      "text/plain": [
       "Index(['Entity', 'Code', 'Year',\n",
       "       'Government expenditure on education, total (% of government expenditure)'],\n",
       "      dtype='object')"
      ]
     },
     "execution_count": 117,
     "metadata": {},
     "output_type": "execute_result"
    }
   ],
   "source": [
    "education.columns"
   ]
  },
  {
   "cell_type": "code",
   "execution_count": 118,
   "id": "c2f9d6a6",
   "metadata": {},
   "outputs": [
    {
     "data": {
      "text/plain": [
       "Index(['Entity', 'Code', 'Year',\n",
       "       'Unemployment, female (% of female labor force) (modeled ILO estimate)',\n",
       "       'Unemployment, male (% of male labor force) (modeled ILO estimate)',\n",
       "       'Population (historical estimates)', 'Continent'],\n",
       "      dtype='object')"
      ]
     },
     "execution_count": 118,
     "metadata": {},
     "output_type": "execute_result"
    }
   ],
   "source": [
    "unemployment_rate.columns"
   ]
  },
  {
   "cell_type": "code",
   "execution_count": 119,
   "id": "23ec2e2d",
   "metadata": {},
   "outputs": [
    {
     "data": {
      "text/plain": [
       "Index(['country', 'code', 'continent', 'sub-region', 'year',\n",
       "       'female_unemployment', 'male_unemployment', 'population',\n",
       "       'national_strategy'],\n",
       "      dtype='object')"
      ]
     },
     "execution_count": 119,
     "metadata": {},
     "output_type": "execute_result"
    }
   ],
   "source": [
    "temp.columns"
   ]
  },
  {
   "cell_type": "code",
   "execution_count": 122,
   "id": "42f314c0",
   "metadata": {},
   "outputs": [
    {
     "data": {
      "text/html": [
       "<div>\n",
       "<style scoped>\n",
       "    .dataframe tbody tr th:only-of-type {\n",
       "        vertical-align: middle;\n",
       "    }\n",
       "\n",
       "    .dataframe tbody tr th {\n",
       "        vertical-align: top;\n",
       "    }\n",
       "\n",
       "    .dataframe thead th {\n",
       "        text-align: right;\n",
       "    }\n",
       "</style>\n",
       "<table border=\"1\" class=\"dataframe\">\n",
       "  <thead>\n",
       "    <tr style=\"text-align: right;\">\n",
       "      <th></th>\n",
       "      <th>country</th>\n",
       "      <th>code</th>\n",
       "      <th>continent</th>\n",
       "      <th>sub-region</th>\n",
       "      <th>year</th>\n",
       "      <th>female_unemployment</th>\n",
       "      <th>male_unemployment</th>\n",
       "      <th>population</th>\n",
       "      <th>Entity_x</th>\n",
       "      <th>Year_x</th>\n",
       "      <th>national_strategy</th>\n",
       "      <th>Entity_y</th>\n",
       "      <th>Year_y</th>\n",
       "      <th>education_expenditure</th>\n",
       "    </tr>\n",
       "  </thead>\n",
       "  <tbody>\n",
       "    <tr>\n",
       "      <th>0</th>\n",
       "      <td>Afghanistan</td>\n",
       "      <td>AFG</td>\n",
       "      <td>Asia</td>\n",
       "      <td>Southern Asia</td>\n",
       "      <td>2005</td>\n",
       "      <td>14.303</td>\n",
       "      <td>10.630</td>\n",
       "      <td>24411196.0</td>\n",
       "      <td>Afghanistan</td>\n",
       "      <td>2005</td>\n",
       "      <td>NaN</td>\n",
       "      <td>Afghanistan</td>\n",
       "      <td>2005</td>\n",
       "      <td>15.08</td>\n",
       "    </tr>\n",
       "    <tr>\n",
       "      <th>1</th>\n",
       "      <td>Afghanistan</td>\n",
       "      <td>AFG</td>\n",
       "      <td>Asia</td>\n",
       "      <td>Southern Asia</td>\n",
       "      <td>2006</td>\n",
       "      <td>14.179</td>\n",
       "      <td>10.518</td>\n",
       "      <td>25442946.0</td>\n",
       "      <td>Afghanistan</td>\n",
       "      <td>2006</td>\n",
       "      <td>NaN</td>\n",
       "      <td>Afghanistan</td>\n",
       "      <td>2006</td>\n",
       "      <td>12.88</td>\n",
       "    </tr>\n",
       "    <tr>\n",
       "      <th>2</th>\n",
       "      <td>Afghanistan</td>\n",
       "      <td>AFG</td>\n",
       "      <td>Asia</td>\n",
       "      <td>Southern Asia</td>\n",
       "      <td>2007</td>\n",
       "      <td>14.417</td>\n",
       "      <td>10.717</td>\n",
       "      <td>25903306.0</td>\n",
       "      <td>Afghanistan</td>\n",
       "      <td>2007</td>\n",
       "      <td>NaN</td>\n",
       "      <td>Afghanistan</td>\n",
       "      <td>2007</td>\n",
       "      <td>12.36</td>\n",
       "    </tr>\n",
       "    <tr>\n",
       "      <th>3</th>\n",
       "      <td>Afghanistan</td>\n",
       "      <td>AFG</td>\n",
       "      <td>Asia</td>\n",
       "      <td>Southern Asia</td>\n",
       "      <td>2008</td>\n",
       "      <td>14.188</td>\n",
       "      <td>10.516</td>\n",
       "      <td>26427204.0</td>\n",
       "      <td>Afghanistan</td>\n",
       "      <td>2008</td>\n",
       "      <td>NaN</td>\n",
       "      <td>Afghanistan</td>\n",
       "      <td>2008</td>\n",
       "      <td>16.65</td>\n",
       "    </tr>\n",
       "    <tr>\n",
       "      <th>4</th>\n",
       "      <td>Afghanistan</td>\n",
       "      <td>AFG</td>\n",
       "      <td>Asia</td>\n",
       "      <td>Southern Asia</td>\n",
       "      <td>2009</td>\n",
       "      <td>14.440</td>\n",
       "      <td>10.728</td>\n",
       "      <td>27385310.0</td>\n",
       "      <td>Afghanistan</td>\n",
       "      <td>2009</td>\n",
       "      <td>NaN</td>\n",
       "      <td>Afghanistan</td>\n",
       "      <td>2009</td>\n",
       "      <td>17.31</td>\n",
       "    </tr>\n",
       "  </tbody>\n",
       "</table>\n",
       "</div>"
      ],
      "text/plain": [
       "       country code continent     sub-region  year  female_unemployment  \\\n",
       "0  Afghanistan  AFG      Asia  Southern Asia  2005               14.303   \n",
       "1  Afghanistan  AFG      Asia  Southern Asia  2006               14.179   \n",
       "2  Afghanistan  AFG      Asia  Southern Asia  2007               14.417   \n",
       "3  Afghanistan  AFG      Asia  Southern Asia  2008               14.188   \n",
       "4  Afghanistan  AFG      Asia  Southern Asia  2009               14.440   \n",
       "\n",
       "   male_unemployment  population     Entity_x  Year_x  national_strategy  \\\n",
       "0             10.630  24411196.0  Afghanistan    2005                NaN   \n",
       "1             10.518  25442946.0  Afghanistan    2006                NaN   \n",
       "2             10.717  25903306.0  Afghanistan    2007                NaN   \n",
       "3             10.516  26427204.0  Afghanistan    2008                NaN   \n",
       "4             10.728  27385310.0  Afghanistan    2009                NaN   \n",
       "\n",
       "      Entity_y  Year_y  education_expenditure  \n",
       "0  Afghanistan    2005                  15.08  \n",
       "1  Afghanistan    2006                  12.88  \n",
       "2  Afghanistan    2007                  12.36  \n",
       "3  Afghanistan    2008                  16.65  \n",
       "4  Afghanistan    2009                  17.31  "
      ]
     },
     "execution_count": 122,
     "metadata": {},
     "output_type": "execute_result"
    }
   ],
   "source": [
    "temp = temp.merge(education[['Entity', 'Year',\n",
    "       'Government expenditure on education, total (% of government expenditure)']],\n",
    "                 left_on=[\"country\", \"year\"], right_on=[\"Entity\", \"Year\"])\n",
    "temp = temp.rename(columns={'Government expenditure on education, total (% of government expenditure)': 'education_expenditure'})\n",
    "temp.head()"
   ]
  },
  {
   "cell_type": "code",
   "execution_count": 121,
   "id": "6d1bd7ba",
   "metadata": {},
   "outputs": [
    {
     "data": {
      "text/plain": [
       "Index(['country', 'code', 'continent', 'sub-region', 'year',\n",
       "       'female_unemployment', 'male_unemployment', 'population', 'Entity',\n",
       "       'Year', 'national_strategy'],\n",
       "      dtype='object')"
      ]
     },
     "execution_count": 121,
     "metadata": {},
     "output_type": "execute_result"
    }
   ],
   "source": [
    "temp.columns"
   ]
  },
  {
   "cell_type": "code",
   "execution_count": null,
   "id": "b49f936f",
   "metadata": {},
   "outputs": [],
   "source": []
  },
  {
   "cell_type": "code",
   "execution_count": null,
   "id": "b24c5784",
   "metadata": {},
   "outputs": [],
   "source": []
  },
  {
   "cell_type": "code",
   "execution_count": null,
   "id": "60d18025",
   "metadata": {},
   "outputs": [],
   "source": [
    "mask_unemployment\n",
    "mask_unemployment_africa\n",
    "mask_unemployment_world"
   ]
  }
 ],
 "metadata": {
  "kernelspec": {
   "display_name": "Python 3 (ipykernel)",
   "language": "python",
   "name": "python3"
  },
  "language_info": {
   "codemirror_mode": {
    "name": "ipython",
    "version": 3
   },
   "file_extension": ".py",
   "mimetype": "text/x-python",
   "name": "python",
   "nbconvert_exporter": "python",
   "pygments_lexer": "ipython3",
   "version": "3.11.3"
  }
 },
 "nbformat": 4,
 "nbformat_minor": 5
}
